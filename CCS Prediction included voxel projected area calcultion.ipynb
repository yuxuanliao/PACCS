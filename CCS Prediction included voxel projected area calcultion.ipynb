{
 "cells": [
  {
   "cell_type": "markdown",
   "id": "0a5d8c76-d33d-4cc3-901f-be51848b8590",
   "metadata": {},
   "source": [
    "# CCS Prediction included voxel projected area calcultion"
   ]
  },
  {
   "cell_type": "code",
   "execution_count": 1,
   "id": "e68fa8f5-3376-44f2-84d3-5be31a1ae656",
   "metadata": {},
   "outputs": [],
   "source": [
    "from PACCS.Prediction import *"
   ]
  },
  {
   "cell_type": "markdown",
   "id": "dcd21916-9bd7-43be-a7f7-ed47f5a00430",
   "metadata": {},
   "source": [
    "## Please load the file required for predicting CCS values"
   ]
  },
  {
   "cell_type": "code",
   "execution_count": 2,
   "id": "d9b50e00-b808-4c4a-9ff6-f248b284aaea",
   "metadata": {},
   "outputs": [],
   "source": [
    "input_path = './data/external_test_set.csv'"
   ]
  },
  {
   "cell_type": "markdown",
   "id": "57089543-71f3-4875-915e-7c0d97fda833",
   "metadata": {},
   "source": [
    "## Please load the PACCS model"
   ]
  },
  {
   "cell_type": "code",
   "execution_count": 3,
   "id": "2aea0a89-c4e3-47cb-b16a-7525331929d3",
   "metadata": {},
   "outputs": [],
   "source": [
    "model_path = './model/model.pt'"
   ]
  },
  {
   "cell_type": "markdown",
   "id": "b55391c0-b38c-4d5b-a3e1-48b0030ff000",
   "metadata": {},
   "source": [
    "## Provide the directory path where the predicted CCS values will be saved"
   ]
  },
  {
   "cell_type": "code",
   "execution_count": 4,
   "id": "880e2f88-0b32-414a-b5c8-7d4b784cc8cf",
   "metadata": {},
   "outputs": [],
   "source": [
    "output_path = './data/external_test_set_prediction.csv'"
   ]
  },
  {
   "cell_type": "markdown",
   "id": "302d7463-cac5-4f39-8643-0ef72717962a",
   "metadata": {},
   "source": [
    "## Use the PACCS model to predict the CCS values"
   ]
  },
  {
   "cell_type": "code",
   "execution_count": 5,
   "id": "7f770987-8da3-4336-94b2-173b198f08e4",
   "metadata": {},
   "outputs": [
    {
     "name": "stderr",
     "output_type": "stream",
     "text": [
      "100%|██████████████████████████████████████████████████████████████████████████████| 1172/1172 [01:31<00:00, 12.85it/s]\n",
      "100%|████████████████████████████████████████████████████████████████████████████| 1172/1172 [00:00<00:00, 7146.33it/s]\n"
     ]
    },
    {
     "name": "stdout",
     "output_type": "stream",
     "text": [
      "## Read data :  1172\n",
      "## All Atoms :  ['As', 'Br', 'C', 'Cl', 'F', 'I', 'N', 'O', 'P', 'S', 'Se']\n",
      "## All Adduct types:  ['[M+H]+', '[M+Na]+', '[M-H]-']\n",
      "Test length : 1172\n"
     ]
    },
    {
     "name": "stderr",
     "output_type": "stream",
     "text": [
      "100%|████████████████████████████████████████████████████████████████████████████| 1172/1172 [00:00<00:00, 2050.41it/s]\n",
      "100%|█████████████████████████████████████████████████████████████████████████████| 1172/1172 [00:07<00:00, 152.31it/s]"
     ]
    },
    {
     "name": "stdout",
     "output_type": "stream",
     "text": [
      "## CCS prediction has been completed\n",
      "R2 Score : 0.9770928030665657\n",
      "Mean Absolute Error : 3.4013579892623955\n",
      "Median Absolute Error : 2.413787841796875\n",
      "Median Relative Error : 1.4776551531044435 %\n",
      "Mean Relative Error : 1.9091129794133705 %\n",
      "Root Mean Squared Error : 4.7359553330859985\n",
      "Mean Squared Error : 22.429272916985713\n"
     ]
    },
    {
     "name": "stderr",
     "output_type": "stream",
     "text": [
      "\n"
     ]
    }
   ],
   "source": [
    "PACCS_predict_blengths(input_path, model_path, output_path)"
   ]
  }
 ],
 "metadata": {
  "kernelspec": {
   "display_name": "Python 3 (ipykernel)",
   "language": "python",
   "name": "python3"
  },
  "language_info": {
   "codemirror_mode": {
    "name": "ipython",
    "version": 3
   },
   "file_extension": ".py",
   "mimetype": "text/x-python",
   "name": "python",
   "nbconvert_exporter": "python",
   "pygments_lexer": "ipython3",
   "version": "3.11.9"
  }
 },
 "nbformat": 4,
 "nbformat_minor": 5
}
